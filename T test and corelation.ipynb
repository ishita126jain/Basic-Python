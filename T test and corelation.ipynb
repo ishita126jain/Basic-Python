{
 "cells": [
  {
   "cell_type": "markdown",
   "id": "e039d429",
   "metadata": {},
   "source": [
    "# One sample T test"
   ]
  },
  {
   "cell_type": "code",
   "execution_count": 1,
   "id": "10d2c9e9",
   "metadata": {},
   "outputs": [],
   "source": [
    "ages=[10,20,35,50,28,40,55,30,25,43,18,30,28,14,24,16,17,32,35,26,27,65,18,43,23,21,20,19,70]"
   ]
  },
  {
   "cell_type": "code",
   "execution_count": 2,
   "id": "5f6c775b",
   "metadata": {},
   "outputs": [
    {
     "data": {
      "text/plain": [
       "29"
      ]
     },
     "execution_count": 2,
     "metadata": {},
     "output_type": "execute_result"
    }
   ],
   "source": [
    "len(ages)"
   ]
  },
  {
   "cell_type": "code",
   "execution_count": 3,
   "id": "ecd4df6f",
   "metadata": {},
   "outputs": [
    {
     "data": {
      "text/plain": [
       "30.413793103448278"
      ]
     },
     "execution_count": 3,
     "metadata": {},
     "output_type": "execute_result"
    }
   ],
   "source": [
    "#calculating mean of whole population\n",
    "import numpy as np\n",
    "ages_mean = np.mean(ages)\n",
    "ages_mean"
   ]
  },
  {
   "cell_type": "code",
   "execution_count": 4,
   "id": "78a94d40",
   "metadata": {},
   "outputs": [],
   "source": [
    "#Now take a sample from the the ages and computing their ages.\n",
    "#lets take sample\n",
    "\n",
    "sample_size=10\n",
    "ages_sample=np.random.choice(ages,sample_size)"
   ]
  },
  {
   "cell_type": "code",
   "execution_count": 5,
   "id": "5ca833d8",
   "metadata": {},
   "outputs": [
    {
     "data": {
      "text/plain": [
       "array([18, 19, 30, 30, 21, 35, 65, 28, 28, 18])"
      ]
     },
     "execution_count": 5,
     "metadata": {},
     "output_type": "execute_result"
    }
   ],
   "source": [
    "ages_sample"
   ]
  },
  {
   "cell_type": "code",
   "execution_count": 6,
   "id": "9bebc00f",
   "metadata": {},
   "outputs": [],
   "source": [
    "from scipy.stats import ttest_1samp"
   ]
  },
  {
   "cell_type": "code",
   "execution_count": 7,
   "id": "78d37745",
   "metadata": {},
   "outputs": [],
   "source": [
    "ttest,p_value = ttest_1samp(ages_sample,30)"
   ]
  },
  {
   "cell_type": "code",
   "execution_count": 8,
   "id": "4c204146",
   "metadata": {},
   "outputs": [
    {
     "data": {
      "text/plain": [
       "0.8597227165145309"
      ]
     },
     "execution_count": 8,
     "metadata": {},
     "output_type": "execute_result"
    }
   ],
   "source": [
    "p_value"
   ]
  },
  {
   "cell_type": "code",
   "execution_count": 9,
   "id": "01c4a05f",
   "metadata": {},
   "outputs": [
    {
     "name": "stdout",
     "output_type": "stream",
     "text": [
      "Accept the null hypothesis\n"
     ]
    }
   ],
   "source": [
    "#My null hypothesis is there is no difference in the mean of ages\n",
    "#And alternate hypothesis is there is a difference in the mean of ages.\n",
    "if p_value < 0.05:\n",
    "    print(\"Reject the null hypothesis\")\n",
    "else:\n",
    "    print(\"Accept the null hypothesis\")"
   ]
  },
  {
   "cell_type": "code",
   "execution_count": 10,
   "id": "047a1e95",
   "metadata": {},
   "outputs": [],
   "source": [
    "#Other example"
   ]
  },
  {
   "cell_type": "code",
   "execution_count": 11,
   "id": "51c16df0",
   "metadata": {},
   "outputs": [],
   "source": [
    "import numpy as np\n",
    "import pandas as pd\n",
    "import scipy.stats as stats\n",
    "import math\n",
    "np.random.seed(6)\n",
    "#rvs is the method of poisson distribution it is random variates\n",
    "# variate - a quantity having a numerical value for each member of a group\n",
    "#loc is the left end point and default value is 0\n",
    "#mu is the mean of the function\n",
    "#size is the sample size\n",
    "school_ages = stats.poisson.rvs(loc=18,mu=35,size=1500)#population\n",
    "classA_ages = stats.poisson.rvs(loc=18,mu=30,size=60)"
   ]
  },
  {
   "cell_type": "code",
   "execution_count": 12,
   "id": "8a7adee1",
   "metadata": {},
   "outputs": [
    {
     "data": {
      "text/plain": [
       "46.9"
      ]
     },
     "execution_count": 12,
     "metadata": {},
     "output_type": "execute_result"
    }
   ],
   "source": [
    "classA_ages.mean()"
   ]
  },
  {
   "cell_type": "code",
   "execution_count": 13,
   "id": "aca7566b",
   "metadata": {},
   "outputs": [
    {
     "data": {
      "text/plain": [
       "53.303333333333335"
      ]
     },
     "execution_count": 13,
     "metadata": {},
     "output_type": "execute_result"
    }
   ],
   "source": [
    "school_ages.mean()"
   ]
  },
  {
   "cell_type": "code",
   "execution_count": 14,
   "id": "6ef8d950",
   "metadata": {},
   "outputs": [],
   "source": [
    "ttset , p_value = ttest_1samp(classA_ages, school_ages.mean())"
   ]
  },
  {
   "cell_type": "code",
   "execution_count": 15,
   "id": "dd71469c",
   "metadata": {},
   "outputs": [
    {
     "data": {
      "text/plain": [
       "1.139027071016194e-13"
      ]
     },
     "execution_count": 15,
     "metadata": {},
     "output_type": "execute_result"
    }
   ],
   "source": [
    "p_value"
   ]
  },
  {
   "cell_type": "code",
   "execution_count": 16,
   "id": "b963bd88",
   "metadata": {},
   "outputs": [
    {
     "name": "stdout",
     "output_type": "stream",
     "text": [
      "Reject the null hypothesis\n"
     ]
    }
   ],
   "source": [
    "#My null hypothesis is there is no difference in the mean of ages\n",
    "#And alternate hypothesis is there is a difference in the mean of ages.\n",
    "if p_value < 0.05:\n",
    "    print(\"Reject the null hypothesis\")\n",
    "else:\n",
    "    print(\"Accept the null hypothesis\")"
   ]
  },
  {
   "cell_type": "markdown",
   "id": "88869df6",
   "metadata": {},
   "source": [
    "# Two sample T test"
   ]
  },
  {
   "cell_type": "code",
   "execution_count": 17,
   "id": "3665dc27",
   "metadata": {},
   "outputs": [
    {
     "data": {
      "text/plain": [
       "50.68333333333333"
      ]
     },
     "execution_count": 17,
     "metadata": {},
     "output_type": "execute_result"
    }
   ],
   "source": [
    "# take another class B\n",
    "classB_ages = stats.poisson.rvs(loc=18,mu=33,size=60)\n",
    "classB_ages.mean()"
   ]
  },
  {
   "cell_type": "code",
   "execution_count": 18,
   "id": "bb8d6cb5",
   "metadata": {},
   "outputs": [],
   "source": [
    "_,P_value = stats.ttest_ind(a=classA_ages,b=classB_ages,equal_var=False)"
   ]
  },
  {
   "cell_type": "code",
   "execution_count": 19,
   "id": "276bec86",
   "metadata": {},
   "outputs": [
    {
     "data": {
      "text/plain": [
       "0.00030935839774215933"
      ]
     },
     "execution_count": 19,
     "metadata": {},
     "output_type": "execute_result"
    }
   ],
   "source": [
    "P_value"
   ]
  },
  {
   "cell_type": "code",
   "execution_count": 20,
   "id": "96fcacb7",
   "metadata": {},
   "outputs": [
    {
     "name": "stdout",
     "output_type": "stream",
     "text": [
      "Reject the null hypothesis\n"
     ]
    }
   ],
   "source": [
    "#My null hypothesis is there is no difference in the mean of ages\n",
    "#And alternate hypothesis is there is a difference in the mean of ages.\n",
    "if p_value < 0.05:\n",
    "    print(\"Reject the null hypothesis\")\n",
    "else:\n",
    "    print(\"Accept the null hypothesis\")"
   ]
  },
  {
   "cell_type": "markdown",
   "id": "a7c95f4c",
   "metadata": {},
   "source": [
    "# Paired T test "
   ]
  },
  {
   "cell_type": "code",
   "execution_count": 21,
   "id": "8bb119f3",
   "metadata": {},
   "outputs": [],
   "source": [
    "#when you want to check how different samples from the group are, you can go for a paired T-test"
   ]
  },
  {
   "cell_type": "code",
   "execution_count": 22,
   "id": "9e1ddfdd",
   "metadata": {},
   "outputs": [],
   "source": [
    "weight1 = [26,30,28,35,28,34,26,29,30,26,28,32,31,30,45]\n",
    "#scale specify the standard deviation\n",
    "#loc specify the mean\n",
    "weight2 = weight1+stats.norm.rvs(scale=5,loc=-1.25,size=15)"
   ]
  },
  {
   "cell_type": "code",
   "execution_count": 23,
   "id": "fb8ad577",
   "metadata": {},
   "outputs": [
    {
     "name": "stdout",
     "output_type": "stream",
     "text": [
      "[26, 30, 28, 35, 28, 34, 26, 29, 30, 26, 28, 32, 31, 30, 45]\n",
      "[24.05339813 22.31769305 23.45834972 26.64869425 30.28145396 34.63232004\n",
      " 16.51491535 28.02824248 32.13278326 23.37247705 26.25327636 24.8162077\n",
      " 25.07676606 27.8542075  34.24205326]\n"
     ]
    }
   ],
   "source": [
    "print(weight1)\n",
    "print(weight2)"
   ]
  },
  {
   "cell_type": "code",
   "execution_count": 24,
   "id": "e93d66bf",
   "metadata": {},
   "outputs": [],
   "source": [
    "\n",
    "weight_df = pd.DataFrame({\"weight_10\":np.array(weight1),\n",
    "                           \"weight_20\":np.array(weight2),\n",
    "                            \"weight_change\":np.array(weight2)-np.array(weight1)})"
   ]
  },
  {
   "cell_type": "code",
   "execution_count": 25,
   "id": "485f431c",
   "metadata": {},
   "outputs": [
    {
     "data": {
      "text/html": [
       "<div>\n",
       "<style scoped>\n",
       "    .dataframe tbody tr th:only-of-type {\n",
       "        vertical-align: middle;\n",
       "    }\n",
       "\n",
       "    .dataframe tbody tr th {\n",
       "        vertical-align: top;\n",
       "    }\n",
       "\n",
       "    .dataframe thead th {\n",
       "        text-align: right;\n",
       "    }\n",
       "</style>\n",
       "<table border=\"1\" class=\"dataframe\">\n",
       "  <thead>\n",
       "    <tr style=\"text-align: right;\">\n",
       "      <th></th>\n",
       "      <th>weight_10</th>\n",
       "      <th>weight_20</th>\n",
       "      <th>weight_change</th>\n",
       "    </tr>\n",
       "  </thead>\n",
       "  <tbody>\n",
       "    <tr>\n",
       "      <th>0</th>\n",
       "      <td>26</td>\n",
       "      <td>24.053398</td>\n",
       "      <td>-1.946602</td>\n",
       "    </tr>\n",
       "    <tr>\n",
       "      <th>1</th>\n",
       "      <td>30</td>\n",
       "      <td>22.317693</td>\n",
       "      <td>-7.682307</td>\n",
       "    </tr>\n",
       "    <tr>\n",
       "      <th>2</th>\n",
       "      <td>28</td>\n",
       "      <td>23.458350</td>\n",
       "      <td>-4.541650</td>\n",
       "    </tr>\n",
       "    <tr>\n",
       "      <th>3</th>\n",
       "      <td>35</td>\n",
       "      <td>26.648694</td>\n",
       "      <td>-8.351306</td>\n",
       "    </tr>\n",
       "    <tr>\n",
       "      <th>4</th>\n",
       "      <td>28</td>\n",
       "      <td>30.281454</td>\n",
       "      <td>2.281454</td>\n",
       "    </tr>\n",
       "    <tr>\n",
       "      <th>5</th>\n",
       "      <td>34</td>\n",
       "      <td>34.632320</td>\n",
       "      <td>0.632320</td>\n",
       "    </tr>\n",
       "    <tr>\n",
       "      <th>6</th>\n",
       "      <td>26</td>\n",
       "      <td>16.514915</td>\n",
       "      <td>-9.485085</td>\n",
       "    </tr>\n",
       "    <tr>\n",
       "      <th>7</th>\n",
       "      <td>29</td>\n",
       "      <td>28.028242</td>\n",
       "      <td>-0.971758</td>\n",
       "    </tr>\n",
       "    <tr>\n",
       "      <th>8</th>\n",
       "      <td>30</td>\n",
       "      <td>32.132783</td>\n",
       "      <td>2.132783</td>\n",
       "    </tr>\n",
       "    <tr>\n",
       "      <th>9</th>\n",
       "      <td>26</td>\n",
       "      <td>23.372477</td>\n",
       "      <td>-2.627523</td>\n",
       "    </tr>\n",
       "    <tr>\n",
       "      <th>10</th>\n",
       "      <td>28</td>\n",
       "      <td>26.253276</td>\n",
       "      <td>-1.746724</td>\n",
       "    </tr>\n",
       "    <tr>\n",
       "      <th>11</th>\n",
       "      <td>32</td>\n",
       "      <td>24.816208</td>\n",
       "      <td>-7.183792</td>\n",
       "    </tr>\n",
       "    <tr>\n",
       "      <th>12</th>\n",
       "      <td>31</td>\n",
       "      <td>25.076766</td>\n",
       "      <td>-5.923234</td>\n",
       "    </tr>\n",
       "    <tr>\n",
       "      <th>13</th>\n",
       "      <td>30</td>\n",
       "      <td>27.854208</td>\n",
       "      <td>-2.145792</td>\n",
       "    </tr>\n",
       "    <tr>\n",
       "      <th>14</th>\n",
       "      <td>45</td>\n",
       "      <td>34.242053</td>\n",
       "      <td>-10.757947</td>\n",
       "    </tr>\n",
       "  </tbody>\n",
       "</table>\n",
       "</div>"
      ],
      "text/plain": [
       "    weight_10  weight_20  weight_change\n",
       "0          26  24.053398      -1.946602\n",
       "1          30  22.317693      -7.682307\n",
       "2          28  23.458350      -4.541650\n",
       "3          35  26.648694      -8.351306\n",
       "4          28  30.281454       2.281454\n",
       "5          34  34.632320       0.632320\n",
       "6          26  16.514915      -9.485085\n",
       "7          29  28.028242      -0.971758\n",
       "8          30  32.132783       2.132783\n",
       "9          26  23.372477      -2.627523\n",
       "10         28  26.253276      -1.746724\n",
       "11         32  24.816208      -7.183792\n",
       "12         31  25.076766      -5.923234\n",
       "13         30  27.854208      -2.145792\n",
       "14         45  34.242053     -10.757947"
      ]
     },
     "execution_count": 25,
     "metadata": {},
     "output_type": "execute_result"
    }
   ],
   "source": [
    "weight_df"
   ]
  },
  {
   "cell_type": "code",
   "execution_count": 26,
   "id": "c285fb8d",
   "metadata": {},
   "outputs": [],
   "source": [
    "ttest, p_value = stats.ttest_rel(a=weight1,b=weight2)"
   ]
  },
  {
   "cell_type": "code",
   "execution_count": 27,
   "id": "0bfb0130",
   "metadata": {},
   "outputs": [
    {
     "data": {
      "text/plain": [
       "0.00288079766277428"
      ]
     },
     "execution_count": 27,
     "metadata": {},
     "output_type": "execute_result"
    }
   ],
   "source": [
    "p_value"
   ]
  },
  {
   "cell_type": "code",
   "execution_count": 28,
   "id": "e3325ed2",
   "metadata": {},
   "outputs": [
    {
     "name": "stdout",
     "output_type": "stream",
     "text": [
      "Reject the null hypothesis\n"
     ]
    }
   ],
   "source": [
    "#My null hypothesis is there is no difference in the mean of ages\n",
    "#And alternate hypothesis is there is a difference in the mean of ages.\n",
    "if p_value < 0.05:\n",
    "    print(\"Reject the null hypothesis\")\n",
    "else:\n",
    "    print(\"Accept the null hypothesis\")"
   ]
  }
 ],
 "metadata": {
  "kernelspec": {
   "display_name": "Python 3 (ipykernel)",
   "language": "python",
   "name": "python3"
  },
  "language_info": {
   "codemirror_mode": {
    "name": "ipython",
    "version": 3
   },
   "file_extension": ".py",
   "mimetype": "text/x-python",
   "name": "python",
   "nbconvert_exporter": "python",
   "pygments_lexer": "ipython3",
   "version": "3.8.10"
  }
 },
 "nbformat": 4,
 "nbformat_minor": 5
}
