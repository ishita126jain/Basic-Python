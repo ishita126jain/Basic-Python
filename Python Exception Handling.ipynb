{
 "cells": [
  {
   "cell_type": "code",
   "execution_count": 1,
   "id": "3952027e",
   "metadata": {},
   "outputs": [],
   "source": [
    "a=10"
   ]
  },
  {
   "cell_type": "code",
   "execution_count": 2,
   "id": "71c9fb72",
   "metadata": {},
   "outputs": [
    {
     "ename": "NameError",
     "evalue": "name 'b' is not defined",
     "output_type": "error",
     "traceback": [
      "\u001b[0;31m---------------------------------------------------------------------------\u001b[0m",
      "\u001b[0;31mNameError\u001b[0m                                 Traceback (most recent call last)",
      "Input \u001b[0;32mIn [2]\u001b[0m, in \u001b[0;36m<cell line: 1>\u001b[0;34m()\u001b[0m\n\u001b[0;32m----> 1\u001b[0m a\u001b[38;5;241m=\u001b[39m\u001b[43mb\u001b[49m\n",
      "\u001b[0;31mNameError\u001b[0m: name 'b' is not defined"
     ]
    }
   ],
   "source": [
    "a=b"
   ]
  },
  {
   "cell_type": "code",
   "execution_count": 3,
   "id": "1bbf93e7",
   "metadata": {},
   "outputs": [],
   "source": [
    "#try:\n",
    "    # code block where exception can occur\n",
    "#except:\n",
    "    #message"
   ]
  },
  {
   "cell_type": "code",
   "execution_count": 4,
   "id": "7989a072",
   "metadata": {},
   "outputs": [
    {
     "name": "stdout",
     "output_type": "stream",
     "text": [
      "Some problem may have occured\n"
     ]
    }
   ],
   "source": [
    "try:\n",
    "    a=b\n",
    "except:\n",
    "    print(\"Some problem may have occured\")"
   ]
  },
  {
   "cell_type": "code",
   "execution_count": 5,
   "id": "49c74b97",
   "metadata": {},
   "outputs": [
    {
     "name": "stdout",
     "output_type": "stream",
     "text": [
      "name 'b' is not defined\n"
     ]
    }
   ],
   "source": [
    "try:\n",
    "    a=b\n",
    "except Exception as ex:\n",
    "    print(ex)"
   ]
  },
  {
   "cell_type": "code",
   "execution_count": 6,
   "id": "de7a2682",
   "metadata": {},
   "outputs": [
    {
     "name": "stdout",
     "output_type": "stream",
     "text": [
      "The user have not defined the variable\n"
     ]
    }
   ],
   "source": [
    "try:\n",
    "    a=b\n",
    "except NameError as ex1:\n",
    "    print(\"The user have not defined the variable\")\n",
    "except Exception as ex:\n",
    "    print(ex)"
   ]
  },
  {
   "cell_type": "code",
   "execution_count": 7,
   "id": "3f78f4f7",
   "metadata": {},
   "outputs": [
    {
     "ename": "TypeError",
     "evalue": "unsupported operand type(s) for +: 'int' and 'str'",
     "output_type": "error",
     "traceback": [
      "\u001b[0;31m---------------------------------------------------------------------------\u001b[0m",
      "\u001b[0;31mTypeError\u001b[0m                                 Traceback (most recent call last)",
      "Input \u001b[0;32mIn [7]\u001b[0m, in \u001b[0;36m<cell line: 3>\u001b[0;34m()\u001b[0m\n\u001b[1;32m      1\u001b[0m a\u001b[38;5;241m=\u001b[39m\u001b[38;5;241m1\u001b[39m\n\u001b[1;32m      2\u001b[0m b\u001b[38;5;241m=\u001b[39m\u001b[38;5;124m'\u001b[39m\u001b[38;5;124ms\u001b[39m\u001b[38;5;124m'\u001b[39m\n\u001b[0;32m----> 3\u001b[0m c\u001b[38;5;241m=\u001b[39m\u001b[43ma\u001b[49m\u001b[38;5;241;43m+\u001b[39;49m\u001b[43mb\u001b[49m\n",
      "\u001b[0;31mTypeError\u001b[0m: unsupported operand type(s) for +: 'int' and 'str'"
     ]
    }
   ],
   "source": [
    "a=1\n",
    "b='s'\n",
    "c=a+b"
   ]
  },
  {
   "cell_type": "code",
   "execution_count": 8,
   "id": "99e99dcc",
   "metadata": {},
   "outputs": [
    {
     "name": "stdout",
     "output_type": "stream",
     "text": [
      "unsupported operand type(s) for +: 'int' and 'str'\n"
     ]
    }
   ],
   "source": [
    "try:\n",
    "    a=1\n",
    "    b='s'\n",
    "    c=a+b\n",
    "except NameError as ex1:\n",
    "    print(\"The user have not defined the variable\")\n",
    "except Exception as ex:\n",
    "    print(ex)"
   ]
  },
  {
   "cell_type": "code",
   "execution_count": 9,
   "id": "15b142d2",
   "metadata": {},
   "outputs": [
    {
     "name": "stdout",
     "output_type": "stream",
     "text": [
      "Try to make similar data type\n"
     ]
    }
   ],
   "source": [
    "try:\n",
    "    a=1\n",
    "    b='s'\n",
    "    c=a+b\n",
    "except NameError:\n",
    "    print(\"The user have not defined the variable\")\n",
    "except TypeError:\n",
    "    print(\"Try to make similar data type\")\n",
    "except Exception as ex:\n",
    "    print(ex)"
   ]
  },
  {
   "cell_type": "code",
   "execution_count": 12,
   "id": "22c2e5a4",
   "metadata": {},
   "outputs": [
    {
     "name": "stdout",
     "output_type": "stream",
     "text": [
      "Enter number 1 12\n",
      "Enter number 2 0\n",
      "division by zero\n"
     ]
    }
   ],
   "source": [
    "try:\n",
    "    a=int(input(\"Enter number 1 \"))\n",
    "    b=int(input(\"Enter number 2 \"))\n",
    "    c=a+b\n",
    "    d=a*b\n",
    "    e=a/b\n",
    "    print(c)\n",
    "    print(d)\n",
    "    print(e)\n",
    "except NameError:\n",
    "    print(\"The user have not defined the variable\")\n",
    "except TypeError:\n",
    "    print(\"Try to make similar data type\")\n",
    "except Exception as ex:\n",
    "    print(ex)"
   ]
  },
  {
   "cell_type": "code",
   "execution_count": 13,
   "id": "223555e7",
   "metadata": {},
   "outputs": [
    {
     "ename": "ZeroDivisionError",
     "evalue": "division by zero",
     "output_type": "error",
     "traceback": [
      "\u001b[0;31m---------------------------------------------------------------------------\u001b[0m",
      "\u001b[0;31mZeroDivisionError\u001b[0m                         Traceback (most recent call last)",
      "Input \u001b[0;32mIn [13]\u001b[0m, in \u001b[0;36m<cell line: 1>\u001b[0;34m()\u001b[0m\n\u001b[0;32m----> 1\u001b[0m c\u001b[38;5;241m=\u001b[39m\u001b[38;5;241;43m12\u001b[39;49m\u001b[38;5;241;43m/\u001b[39;49m\u001b[38;5;241;43m0\u001b[39;49m\n\u001b[1;32m      2\u001b[0m c\n",
      "\u001b[0;31mZeroDivisionError\u001b[0m: division by zero"
     ]
    }
   ],
   "source": [
    "c=12/0\n",
    "c"
   ]
  },
  {
   "cell_type": "code",
   "execution_count": 14,
   "id": "1d8d7669",
   "metadata": {},
   "outputs": [
    {
     "name": "stdout",
     "output_type": "stream",
     "text": [
      "Enter number 1 12\n",
      "Enter number 2 0\n",
      "Please provide the number greater then zero\n"
     ]
    }
   ],
   "source": [
    "try:\n",
    "    a=int(input(\"Enter number 1 \"))\n",
    "    b=int(input(\"Enter number 2 \"))\n",
    "    c=a+b\n",
    "    d=a*b\n",
    "    e=a/b\n",
    "    print(c)\n",
    "    print(d)\n",
    "    print(e)\n",
    "except NameError:\n",
    "    print(\"The user have not defined the variable\")\n",
    "except TypeError:\n",
    "    print(\"Try to make similar data type\")\n",
    "except ZeroDivisionError:\n",
    "    print(\"Please provide the number greater then zero\")\n",
    "except Exception as ex:\n",
    "    print(ex)"
   ]
  },
  {
   "cell_type": "code",
   "execution_count": 15,
   "id": "67dfdbd8",
   "metadata": {},
   "outputs": [
    {
     "name": "stdout",
     "output_type": "stream",
     "text": [
      "Enter number 1 12\n",
      "Enter number 2 4\n",
      "16\n",
      "48\n",
      "3.0\n"
     ]
    }
   ],
   "source": [
    "try:\n",
    "    a=int(input(\"Enter number 1 \"))\n",
    "    b=int(input(\"Enter number 2 \"))\n",
    "    c=a+b\n",
    "    d=a*b\n",
    "    e=a/b\n",
    "    \n",
    "except NameError:\n",
    "    print(\"The user have not defined the variable\")\n",
    "except TypeError:\n",
    "    print(\"Try to make similar data type\")\n",
    "except ZeroDivisionError:\n",
    "    print(\"Please provide the number greater then zero\")\n",
    "except Exception as ex:\n",
    "    print(ex)\n",
    "else:\n",
    "    print(c)\n",
    "    print(d)\n",
    "    print(e)"
   ]
  },
  {
   "cell_type": "code",
   "execution_count": 16,
   "id": "2d2dff72",
   "metadata": {},
   "outputs": [
    {
     "name": "stdout",
     "output_type": "stream",
     "text": [
      "Enter number 1 11\n",
      "Enter number 2 2\n",
      "5.5\n",
      "The execution is done\n"
     ]
    }
   ],
   "source": [
    "try:\n",
    "    a=int(input(\"Enter number 1 \"))\n",
    "    b=int(input(\"Enter number 2 \"))\n",
    "    c=a/b\n",
    "    \n",
    "except NameError:\n",
    "    print(\"The user have not defined the variable\")\n",
    "except TypeError:\n",
    "    print(\"Try to make similar data type\")\n",
    "except ZeroDivisionError:\n",
    "    print(\"Please provide the number greater then zero\")\n",
    "except Exception as ex:\n",
    "    print(ex)\n",
    "else:\n",
    "    print(c)\n",
    "finally:\n",
    "    print(\"The execution is done\")"
   ]
  },
  {
   "cell_type": "code",
   "execution_count": 17,
   "id": "4422dd6d",
   "metadata": {},
   "outputs": [
    {
     "name": "stdout",
     "output_type": "stream",
     "text": [
      "Enter number 1 11\n",
      "Enter number 2 0\n",
      "Please provide the number greater then zero\n",
      "The execution is done\n"
     ]
    }
   ],
   "source": [
    "try:\n",
    "    a=int(input(\"Enter number 1 \"))\n",
    "    b=int(input(\"Enter number 2 \"))\n",
    "    c=a/b\n",
    "    \n",
    "except NameError:\n",
    "    print(\"The user have not defined the variable\")\n",
    "except TypeError:\n",
    "    print(\"Try to make similar data type\")\n",
    "except ZeroDivisionError:\n",
    "    print(\"Please provide the number greater then zero\")\n",
    "except Exception as ex:\n",
    "    print(ex)\n",
    "else:\n",
    "    print(c)\n",
    "finally:\n",
    "    print(\"The execution is done\")"
   ]
  },
  {
   "cell_type": "markdown",
   "id": "3a26cd9c",
   "metadata": {},
   "source": [
    "## Custom Exception Handling"
   ]
  },
  {
   "cell_type": "code",
   "execution_count": 4,
   "id": "e5889b02",
   "metadata": {},
   "outputs": [],
   "source": [
    "class Error(Exception):\n",
    "    pass\n",
    "\n",
    "class dobException(Error):\n",
    "    pass"
   ]
  },
  {
   "cell_type": "code",
   "execution_count": 5,
   "id": "c224bd75",
   "metadata": {},
   "outputs": [
    {
     "name": "stdout",
     "output_type": "stream",
     "text": [
      "Enter the year of Birth 1997\n",
      "The year age is not valid\n"
     ]
    }
   ],
   "source": [
    "year = int(input(\"Enter the year of Birth \"))\n",
    "age=2022-year\n",
    "try:\n",
    "    if age<=30 & age>20:\n",
    "        print(\"The age is valid\")\n",
    "    else:\n",
    "        raise dobException\n",
    "except dobException:\n",
    "    print(\"The year age is not valid\")"
   ]
  },
  {
   "cell_type": "code",
   "execution_count": null,
   "id": "a6f8264c",
   "metadata": {},
   "outputs": [],
   "source": []
  }
 ],
 "metadata": {
  "kernelspec": {
   "display_name": "Python 3 (ipykernel)",
   "language": "python",
   "name": "python3"
  },
  "language_info": {
   "codemirror_mode": {
    "name": "ipython",
    "version": 3
   },
   "file_extension": ".py",
   "mimetype": "text/x-python",
   "name": "python",
   "nbconvert_exporter": "python",
   "pygments_lexer": "ipython3",
   "version": "3.8.10"
  }
 },
 "nbformat": 4,
 "nbformat_minor": 5
}
