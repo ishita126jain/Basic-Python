{
 "cells": [
  {
   "cell_type": "code",
   "execution_count": 1,
   "id": "d10852c6",
   "metadata": {},
   "outputs": [
    {
     "name": "stdout",
     "output_type": "stream",
     "text": [
      "NUmber is even\n"
     ]
    }
   ],
   "source": [
    "num = 24\n",
    "if num%2==0:\n",
    "    print(\"Number is even\")\n",
    "else:\n",
    "    print(\"Number is odd\")"
   ]
  },
  {
   "cell_type": "code",
   "execution_count": 2,
   "id": "3e0a10e5",
   "metadata": {},
   "outputs": [],
   "source": [
    "def even_odd(num):\n",
    "    if num%2==0:\n",
    "        print(\"Number is even\")\n",
    "    else:\n",
    "        print(\"Number is odd\")"
   ]
  },
  {
   "cell_type": "code",
   "execution_count": 3,
   "id": "109b7b75",
   "metadata": {},
   "outputs": [
    {
     "name": "stdout",
     "output_type": "stream",
     "text": [
      "Number is even\n"
     ]
    }
   ],
   "source": [
    "even_odd(24)"
   ]
  },
  {
   "cell_type": "code",
   "execution_count": 4,
   "id": "c8e636c1",
   "metadata": {},
   "outputs": [],
   "source": [
    "def hello_world():\n",
    "    print(\"Hello World\")"
   ]
  },
  {
   "cell_type": "code",
   "execution_count": 5,
   "id": "71778b4a",
   "metadata": {},
   "outputs": [
    {
     "name": "stdout",
     "output_type": "stream",
     "text": [
      "Hello World\n"
     ]
    }
   ],
   "source": [
    "hello_world()"
   ]
  },
  {
   "cell_type": "code",
   "execution_count": 6,
   "id": "a7d00fa7",
   "metadata": {},
   "outputs": [],
   "source": [
    "def hello_world():\n",
    "    return \"Hello world\""
   ]
  },
  {
   "cell_type": "code",
   "execution_count": 7,
   "id": "a685b6e9",
   "metadata": {},
   "outputs": [],
   "source": [
    "var=hello_world()"
   ]
  },
  {
   "cell_type": "code",
   "execution_count": 8,
   "id": "8f477845",
   "metadata": {},
   "outputs": [
    {
     "data": {
      "text/plain": [
       "'Hello world'"
      ]
     },
     "execution_count": 8,
     "metadata": {},
     "output_type": "execute_result"
    }
   ],
   "source": [
    "var"
   ]
  },
  {
   "cell_type": "code",
   "execution_count": 9,
   "id": "c37fd6ea",
   "metadata": {},
   "outputs": [],
   "source": [
    "def add_num(num1,num2):\n",
    "    return num1+num2"
   ]
  },
  {
   "cell_type": "code",
   "execution_count": 10,
   "id": "d19c3286",
   "metadata": {},
   "outputs": [
    {
     "data": {
      "text/plain": [
       "5"
      ]
     },
     "execution_count": 10,
     "metadata": {},
     "output_type": "execute_result"
    }
   ],
   "source": [
    "ans = add_num(2,3)\n",
    "ans"
   ]
  },
  {
   "cell_type": "code",
   "execution_count": 11,
   "id": "fa780883",
   "metadata": {},
   "outputs": [],
   "source": [
    "def hello(name,age=29):\n",
    "    print(\"My name is : {} and age is {}\".format(name,age))"
   ]
  },
  {
   "cell_type": "code",
   "execution_count": 12,
   "id": "3960c310",
   "metadata": {},
   "outputs": [
    {
     "name": "stdout",
     "output_type": "stream",
     "text": [
      "My name is : ishita and age is 29\n"
     ]
    }
   ],
   "source": [
    "hello(\"ishita\")"
   ]
  },
  {
   "cell_type": "code",
   "execution_count": 13,
   "id": "34fac3d5",
   "metadata": {},
   "outputs": [
    {
     "name": "stdout",
     "output_type": "stream",
     "text": [
      "My name is : ishita and age is 19\n"
     ]
    }
   ],
   "source": [
    "hello(\"ishita\",19)"
   ]
  },
  {
   "cell_type": "code",
   "execution_count": 15,
   "id": "d80c022b",
   "metadata": {},
   "outputs": [],
   "source": [
    "def hello(*args,**kwargs):\n",
    "    print(args)\n",
    "    print(kwargs)"
   ]
  },
  {
   "cell_type": "code",
   "execution_count": 18,
   "id": "15df1f5e",
   "metadata": {},
   "outputs": [
    {
     "name": "stdout",
     "output_type": "stream",
     "text": [
      "('ishita', 'dishita')\n",
      "{'age': 19, 'dob': 2003}\n"
     ]
    }
   ],
   "source": [
    "hello('ishita','dishita',age=19,dob=2003)"
   ]
  },
  {
   "cell_type": "code",
   "execution_count": 19,
   "id": "bd037137",
   "metadata": {},
   "outputs": [
    {
     "name": "stdout",
     "output_type": "stream",
     "text": [
      "(['Ishita', 'Dishita'], {'age': 19, 'dob': 2003})\n",
      "{}\n"
     ]
    }
   ],
   "source": [
    "lst = ['Ishita','Dishita']\n",
    "dic = {'age':19 , 'dob':2003}\n",
    "\n",
    "hello(lst,dic)"
   ]
  },
  {
   "cell_type": "code",
   "execution_count": 20,
   "id": "3d010397",
   "metadata": {},
   "outputs": [
    {
     "name": "stdout",
     "output_type": "stream",
     "text": [
      "('Ishita', 'Dishita')\n",
      "{'age': 19, 'dob': 2003}\n"
     ]
    }
   ],
   "source": [
    "hello(*lst,**dic)"
   ]
  },
  {
   "cell_type": "code",
   "execution_count": 21,
   "id": "f09c296e",
   "metadata": {},
   "outputs": [],
   "source": [
    "def even_odd_sum(lst):\n",
    "    even_sum=0\n",
    "    odd_sum=0\n",
    "    for i in lst:\n",
    "        if i%2==0:\n",
    "            even_sum+=i\n",
    "        else:\n",
    "            odd_sum+=i\n",
    "    return even_sum,odd_sum"
   ]
  },
  {
   "cell_type": "code",
   "execution_count": 22,
   "id": "e4e9acfa",
   "metadata": {},
   "outputs": [
    {
     "data": {
      "text/plain": [
       "(20, 25)"
      ]
     },
     "execution_count": 22,
     "metadata": {},
     "output_type": "execute_result"
    }
   ],
   "source": [
    "lst=[1,2,3,4,5,6,7,8,9,0]\n",
    "even_odd_sum(lst)"
   ]
  },
  {
   "cell_type": "markdown",
   "id": "6a6bd71c",
   "metadata": {},
   "source": [
    "# Map Function in Python"
   ]
  },
  {
   "cell_type": "code",
   "execution_count": 1,
   "id": "4e9c6269",
   "metadata": {},
   "outputs": [],
   "source": [
    "def even_or_odd(num):\n",
    "    if num%2==0:\n",
    "        return \"{} is Even\".format(num)\n",
    "    else:\n",
    "        return \"{} is Odd\".format(num)"
   ]
  },
  {
   "cell_type": "code",
   "execution_count": 2,
   "id": "599bc181",
   "metadata": {},
   "outputs": [
    {
     "data": {
      "text/plain": [
       "'24 is Even'"
      ]
     },
     "execution_count": 2,
     "metadata": {},
     "output_type": "execute_result"
    }
   ],
   "source": [
    "even_or_odd(24)"
   ]
  },
  {
   "cell_type": "code",
   "execution_count": 3,
   "id": "6b9160f9",
   "metadata": {},
   "outputs": [],
   "source": [
    "lst=[1,2,3,4,5,6,7,8,9,24,87,33,70]"
   ]
  },
  {
   "cell_type": "code",
   "execution_count": 4,
   "id": "0b305f68",
   "metadata": {},
   "outputs": [
    {
     "data": {
      "text/plain": [
       "['1 is Odd',\n",
       " '2 is Even',\n",
       " '3 is Odd',\n",
       " '4 is Even',\n",
       " '5 is Odd',\n",
       " '6 is Even',\n",
       " '7 is Odd',\n",
       " '8 is Even',\n",
       " '9 is Odd',\n",
       " '24 is Even',\n",
       " '87 is Odd',\n",
       " '33 is Odd',\n",
       " '70 is Even']"
      ]
     },
     "execution_count": 4,
     "metadata": {},
     "output_type": "execute_result"
    }
   ],
   "source": [
    "list(map(even_or_odd,lst))"
   ]
  },
  {
   "cell_type": "markdown",
   "id": "2540bd7b",
   "metadata": {},
   "source": [
    "# Lambda Function in Python\n",
    "\n",
    "A function with no name.\n",
    "Anonymous function"
   ]
  },
  {
   "cell_type": "code",
   "execution_count": 5,
   "id": "5b887a02",
   "metadata": {},
   "outputs": [],
   "source": [
    "def addition(a,b):\n",
    "    return a+b"
   ]
  },
  {
   "cell_type": "code",
   "execution_count": 6,
   "id": "e7968b92",
   "metadata": {},
   "outputs": [
    {
     "data": {
      "text/plain": [
       "9"
      ]
     },
     "execution_count": 6,
     "metadata": {},
     "output_type": "execute_result"
    }
   ],
   "source": [
    "addition(4,5)"
   ]
  },
  {
   "cell_type": "code",
   "execution_count": 8,
   "id": "7a09ff48",
   "metadata": {},
   "outputs": [],
   "source": [
    "addition=lambda a,b:a+b"
   ]
  },
  {
   "cell_type": "code",
   "execution_count": 9,
   "id": "0f29366b",
   "metadata": {},
   "outputs": [
    {
     "data": {
      "text/plain": [
       "9"
      ]
     },
     "execution_count": 9,
     "metadata": {},
     "output_type": "execute_result"
    }
   ],
   "source": [
    "addition(4,5)"
   ]
  },
  {
   "cell_type": "code",
   "execution_count": 10,
   "id": "b7a9028d",
   "metadata": {},
   "outputs": [],
   "source": [
    "even = lambda a:a%2==0"
   ]
  },
  {
   "cell_type": "code",
   "execution_count": 11,
   "id": "e8239ee2",
   "metadata": {},
   "outputs": [
    {
     "data": {
      "text/plain": [
       "False"
      ]
     },
     "execution_count": 11,
     "metadata": {},
     "output_type": "execute_result"
    }
   ],
   "source": [
    "even(9)"
   ]
  },
  {
   "cell_type": "code",
   "execution_count": 12,
   "id": "a86027a6",
   "metadata": {},
   "outputs": [],
   "source": [
    "addition = lambda x,y,z:x+y+z"
   ]
  },
  {
   "cell_type": "code",
   "execution_count": 13,
   "id": "ef050b9c",
   "metadata": {},
   "outputs": [
    {
     "data": {
      "text/plain": [
       "6"
      ]
     },
     "execution_count": 13,
     "metadata": {},
     "output_type": "execute_result"
    }
   ],
   "source": [
    "addition(1,2,3)"
   ]
  },
  {
   "cell_type": "markdown",
   "id": "47c3378a",
   "metadata": {},
   "source": [
    "# Filter Function in Python"
   ]
  },
  {
   "cell_type": "code",
   "execution_count": 14,
   "id": "7406696d",
   "metadata": {},
   "outputs": [],
   "source": [
    "def even_or_odd(a):\n",
    "    if a%2==0:\n",
    "        return \"even\"\n",
    "    else:\n",
    "        return \"odd\""
   ]
  },
  {
   "cell_type": "code",
   "execution_count": 15,
   "id": "9516cf96",
   "metadata": {},
   "outputs": [
    {
     "data": {
      "text/plain": [
       "'even'"
      ]
     },
     "execution_count": 15,
     "metadata": {},
     "output_type": "execute_result"
    }
   ],
   "source": [
    "even_or_odd(4)"
   ]
  },
  {
   "cell_type": "code",
   "execution_count": 21,
   "id": "54483fac",
   "metadata": {},
   "outputs": [],
   "source": [
    "def even(a):\n",
    "    if a%2==0:\n",
    "        return True"
   ]
  },
  {
   "cell_type": "code",
   "execution_count": 22,
   "id": "be51d269",
   "metadata": {},
   "outputs": [],
   "source": [
    "lst=[1,2,3,4,5,6,7,8]"
   ]
  },
  {
   "cell_type": "code",
   "execution_count": 23,
   "id": "78ce3f1c",
   "metadata": {},
   "outputs": [
    {
     "data": {
      "text/plain": [
       "[2, 4, 6, 8]"
      ]
     },
     "execution_count": 23,
     "metadata": {},
     "output_type": "execute_result"
    }
   ],
   "source": [
    "list(filter(even,lst))"
   ]
  },
  {
   "cell_type": "code",
   "execution_count": 24,
   "id": "a5dabc54",
   "metadata": {},
   "outputs": [
    {
     "data": {
      "text/plain": [
       "[2, 4, 6, 8]"
      ]
     },
     "execution_count": 24,
     "metadata": {},
     "output_type": "execute_result"
    }
   ],
   "source": [
    "list(filter(lambda num:num%2==0,lst))"
   ]
  },
  {
   "cell_type": "code",
   "execution_count": 25,
   "id": "0f8656fc",
   "metadata": {},
   "outputs": [
    {
     "data": {
      "text/plain": [
       "[False, True, False, True, False, True, False, True]"
      ]
     },
     "execution_count": 25,
     "metadata": {},
     "output_type": "execute_result"
    }
   ],
   "source": [
    "list(map(lambda num:num%2==0,lst))"
   ]
  },
  {
   "cell_type": "code",
   "execution_count": null,
   "id": "f6170082",
   "metadata": {},
   "outputs": [],
   "source": []
  }
 ],
 "metadata": {
  "kernelspec": {
   "display_name": "Python 3 (ipykernel)",
   "language": "python",
   "name": "python3"
  },
  "language_info": {
   "codemirror_mode": {
    "name": "ipython",
    "version": 3
   },
   "file_extension": ".py",
   "mimetype": "text/x-python",
   "name": "python",
   "nbconvert_exporter": "python",
   "pygments_lexer": "ipython3",
   "version": "3.8.10"
  }
 },
 "nbformat": 4,
 "nbformat_minor": 5
}
