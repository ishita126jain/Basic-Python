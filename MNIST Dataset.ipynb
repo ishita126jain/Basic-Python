{
 "cells": [
  {
   "cell_type": "code",
   "execution_count": null,
   "id": "91639edb",
   "metadata": {},
   "outputs": [],
   "source": [
    "# 1. Check if you have Python 3.8 or higher installed, if not install it.\n",
    "# Ans: I check it I have 3.10.4 ."
   ]
  },
  {
   "cell_type": "code",
   "execution_count": 1,
   "id": "8e36008f",
   "metadata": {},
   "outputs": [],
   "source": [
    "# 2. Install Scikit-Learn library, if not already installed\n",
    "# Ans: Already installed."
   ]
  },
  {
   "cell_type": "code",
   "execution_count": 3,
   "id": "891d70a6",
   "metadata": {},
   "outputs": [
    {
     "data": {
      "text/plain": [
       "dict_keys(['data', 'target', 'frame', 'categories', 'feature_names', 'target_names', 'DESCR', 'details', 'url'])"
      ]
     },
     "execution_count": 3,
     "metadata": {},
     "output_type": "execute_result"
    }
   ],
   "source": [
    "# 3. Load MNIST dataset for handwritten digits:\n",
    "from sklearn.datasets import fetch_openml\n",
    "mnist = fetch_openml('mnist_784', version=1)\n",
    "mnist.keys()\n"
   ]
  },
  {
   "cell_type": "code",
   "execution_count": 4,
   "id": "34f2dd3a",
   "metadata": {},
   "outputs": [],
   "source": [
    "# 4. Mention the purpose of each key of the dict mnist."
   ]
  },
  {
   "cell_type": "code",
   "execution_count": 5,
   "id": "2fd6e953",
   "metadata": {},
   "outputs": [],
   "source": [
    "# Ans: A DESCR key is used for describing the dataset.\n",
    "# A data key containing an array with one row per instance and one column per feature.\n",
    "# A target key containing an array with the labels."
   ]
  },
  {
   "cell_type": "code",
   "execution_count": 6,
   "id": "25289e24",
   "metadata": {},
   "outputs": [],
   "source": [
    "# 5. Separate data and target and store them into X and y respectively.\n",
    "X = mnist[\"data\"]\n",
    "y = mnist[\"target\"]"
   ]
  },
  {
   "cell_type": "code",
   "execution_count": 7,
   "id": "0c7449f5",
   "metadata": {},
   "outputs": [
    {
     "name": "stdout",
     "output_type": "stream",
     "text": [
      "Shape and size of data is:  (70000, 784) 54880000\n",
      "Shape and size of target is:  (70000,) 70000\n"
     ]
    }
   ],
   "source": [
    "# 6. Check the size and shape of data and target, and print.\n",
    "print(\"Shape and size of data is: \",X.shape,X.size)\n",
    "print(\"Shape and size of target is: \",y.shape,y.size)"
   ]
  },
  {
   "cell_type": "code",
   "execution_count": 8,
   "id": "e3834eb6",
   "metadata": {},
   "outputs": [
    {
     "data": {
      "image/png": "[encoded data removed]",
      "text/plain": [
       "<Figure size 432x288 with 1 Axes>"
      ]
     },
     "metadata": {
      "needs_background": "light"
     },
     "output_type": "display_data"
    }
   ],
   "source": [
    "# 7. Use imshow function of matplotlib.pyplot to show any value of X as an image.\n",
    "import matplotlib as mpl\n",
    "import matplotlib.pyplot as plt\n",
    "import numpy as np\n",
    "some_digit=X[0:1]\n",
    "some_digit=np.array(some_digit)\n",
    "some_digit_image = some_digit.reshape(28, 28)\n",
    "plt.imshow(some_digit_image)\n",
    "plt.axis(\"off\")\n",
    "plt.show()"
   ]
  },
  {
   "cell_type": "code",
   "execution_count": 9,
   "id": "abf3b7db",
   "metadata": {},
   "outputs": [
    {
     "data": {
      "image/png": "[encoded data removed]",
      "text/plain": [
       "<Figure size 432x288 with 1 Axes>"
      ]
     },
     "metadata": {
      "needs_background": "light"
     },
     "output_type": "display_data"
    }
   ],
   "source": [
    "# 8. Show the digit image in grey scale (use color map binary).\n",
    "plt.imshow(some_digit_image, cmap = mpl.cm.binary)\n",
    "plt.axis(\"off\")\n",
    "plt.show()"
   ]
  },
  {
   "cell_type": "code",
   "execution_count": 10,
   "id": "912664ed",
   "metadata": {},
   "outputs": [
    {
     "name": "stdout",
     "output_type": "stream",
     "text": [
      "<class 'str'>\n",
      "<class 'numpy.uint8'>\n"
     ]
    }
   ],
   "source": [
    "# 9. Convert the target values to unsigned int8, if these are not integer type.\n",
    "print(type(y[0]))\n",
    "y = y.astype(np.uint8)\n",
    "print(type(y[0]))"
   ]
  },
  {
   "cell_type": "code",
   "execution_count": 11,
   "id": "24c88373",
   "metadata": {},
   "outputs": [],
   "source": [
    "# 10. Divide the datasets, X and y, into train and test, follow the advice \n",
    "# given in the datasets description for size of train and test.\n",
    "X_train,X_test,y_train,y_test = X[:60000],X[60000:],y[:60000],y[60000:]"
   ]
  },
  {
   "cell_type": "code",
   "execution_count": 12,
   "id": "39653df3",
   "metadata": {},
   "outputs": [],
   "source": [
    "# 11. Train a Binary Classifier: \n",
    "#  11.1. Convert the target dataset into Binary (True and False) for a digit 5 \n",
    "y_train_5=(y_train==5)\n",
    "y_test_5=(y_test==5)"
   ]
  },
  {
   "cell_type": "code",
   "execution_count": 13,
   "id": "868ecfa2",
   "metadata": {},
   "outputs": [],
   "source": [
    "#  11.2. Select SGD classifier from Scikit-Learn for the purpose, as it is \n",
    "# capable for handling very large datasets efficiently.\n",
    "from sklearn.linear_model import SGDClassifier\n",
    "sgd_clf = SGDClassifier()"
   ]
  },
  {
   "cell_type": "code",
   "execution_count": 14,
   "id": "ba872ba1",
   "metadata": {},
   "outputs": [],
   "source": [
    "#  11.3. Make your results reproducible by using any random state value for the classifier.\n",
    "sgd_clf = SGDClassifier(random_state=42)"
   ]
  },
  {
   "cell_type": "code",
   "execution_count": 15,
   "id": "e66f59bb",
   "metadata": {},
   "outputs": [
    {
     "data": {
      "text/plain": [
       "SGDClassifier(random_state=42)"
      ]
     },
     "execution_count": 15,
     "metadata": {},
     "output_type": "execute_result"
    }
   ],
   "source": [
    "#  11.4. Train the classifier with train dataset and corresponding target in binary.\n",
    "sgd_clf.fit(X_train, y_train_5) "
   ]
  },
  {
   "cell_type": "code",
   "execution_count": 16,
   "id": "de1a66c4",
   "metadata": {},
   "outputs": [
    {
     "name": "stdout",
     "output_type": "stream",
     "text": [
      "Succesfull\n",
      "5\n"
     ]
    },
    {
     "name": "stderr",
     "output_type": "stream",
     "text": [
      "/home/ishita/.local/lib/python3.8/site-packages/sklearn/base.py:450: UserWarning: X does not have valid feature names, but SGDClassifier was fitted with feature names\n",
      "  warnings.warn(\n"
     ]
    },
    {
     "data": {
      "image/png": "[encoded data removed]",
      "text/plain": [
       "<Figure size 432x288 with 1 Axes>"
      ]
     },
     "metadata": {
      "needs_background": "light"
     },
     "output_type": "display_data"
    }
   ],
   "source": [
    "# 12. Write a python function “prediction” to predict any value from the dataset\n",
    "# ,check if it is matching with corresponding target value and print message \n",
    "# “successful” if matching otherwise “unsuccessful”. Also show the imageof dataset \n",
    "# value passed as a parameter to the function “prediction”.\n",
    "def prediction():\n",
    "    res=sgd_clf.predict(some_digit)\n",
    "    if(res[0]==True):\n",
    "        print(\"Succesfull\")\n",
    "    else:\n",
    "        print(\"Unsuccesfull\")\n",
    "\n",
    "prediction()\n",
    "print(y[0])\n",
    "plt.imshow(some_digit_image, cmap = mpl.cm.binary)\n",
    "plt.axis(\"off\")\n",
    "plt.show()"
   ]
  },
  {
   "cell_type": "code",
   "execution_count": 17,
   "id": "e9498004",
   "metadata": {},
   "outputs": [
    {
     "name": "stdout",
     "output_type": "stream",
     "text": [
      "0.95035\n",
      "0.96035\n",
      "0.9604\n"
     ]
    }
   ],
   "source": [
    "# 13. Create a function to measure the accuracy of the classifier you trained\n",
    "# in previous problem. Compute and print the number of correct prediction and \n",
    "# incorrect predictions of the trained classifier. Return the ratio of number \n",
    "# of correct predictions and the total \n",
    "from sklearn.model_selection import StratifiedKFold\n",
    "from sklearn.base import clone\n",
    "skfolds = StratifiedKFold(n_splits=3, random_state=None)\n",
    "for train_index, test_index in skfolds.split(X_train, y_train_5):\n",
    "    clone_clf = clone(sgd_clf)\n",
    "    X_train_folds = X_train.values[train_index]\n",
    "    y_train_folds = y_train_5[train_index]\n",
    "    X_test_fold = X_train.values[test_index]\n",
    "    y_test_fold = y_train_5[test_index]\n",
    "    clone_clf.fit(X_train_folds, y_train_folds)\n",
    "    y_pred = clone_clf.predict(X_test_fold)\n",
    "    n_correct = sum(y_pred == y_test_fold)\n",
    "    print(n_correct / len(y_pred))\n"
   ]
  },
  {
   "cell_type": "code",
   "execution_count": 14,
   "id": "9b43fc4a",
   "metadata": {},
   "outputs": [
    {
     "name": "stdout",
     "output_type": "stream",
     "text": [
      "Accuracy on train dataset:  [0.95035 0.96035 0.9604 ]\n",
      "Accuracy on test dataset:  [0.95110978 0.95439544 0.96879688]\n"
     ]
    }
   ],
   "source": [
    "# 14. Compute classifier’s accuracy on train as well as on test dataset using\n",
    "# cross_val_score function from sklearn’s model selection module.\n",
    "from sklearn.model_selection import cross_val_score\n",
    "print(\"Accuracy on train dataset: \",cross_val_score(sgd_clf, X_train, y_train_5, cv=3, scoring=\"accuracy\"))\n",
    "print(\"Accuracy on test dataset: \",cross_val_score(sgd_clf, X_test, y_test_5, cv=3, scoring=\"accuracy\"))"
   ]
  },
  {
   "cell_type": "code",
   "execution_count": 15,
   "id": "1a9b9bbc",
   "metadata": {},
   "outputs": [
    {
     "data": {
      "text/plain": [
       "array([0.91125, 0.90855, 0.90915])"
      ]
     },
     "execution_count": 15,
     "metadata": {},
     "output_type": "execute_result"
    }
   ],
   "source": [
    "# 15. Compare the accuracy of the trained classifier with a dumb classifier (the\n",
    "# classifier which predicts every value of train dataset as False) on train\n",
    "# dataset and print the accuracy of both classifiers. (You can use method\n",
    "# mentioned in above problem).\n",
    "from sklearn.base import BaseEstimator\n",
    "class Never5Classifier(BaseEstimator):\n",
    "    def fit(self, X, y=None):\n",
    "         pass\n",
    "    def predict(self, X):\n",
    "         return np.zeros((len(X), 1), dtype=bool)\n",
    "never_5_clf = Never5Classifier()\n",
    "cross_val_score(never_5_clf, X_train, y_train_5, cv=3, scoring=\"accuracy\")"
   ]
  },
  {
   "cell_type": "code",
   "execution_count": 16,
   "id": "a88d3872",
   "metadata": {},
   "outputs": [
    {
     "name": "stdout",
     "output_type": "stream",
     "text": [
      "TN of train dataset:  53892\n",
      "FP of train dataset:  687\n",
      "FN of train dataset:  1891\n",
      "TP of train dataset:  3530\n",
      "\n",
      "\n",
      "TN of test dataset:  8936\n",
      "FP of test dataset:  172\n",
      "FN of test dataset:  247\n",
      "TP of test dataset:  645\n"
     ]
    }
   ],
   "source": [
    "# 16.Compute the confusion matrix of the classifier’s predictions for train\n",
    "# dataset, and print the output in the form of TP,FP,FN,TN. Repeat the\n",
    "# same process for test dataset also.\n",
    "from sklearn.model_selection import cross_val_predict\n",
    "from sklearn.metrics import confusion_matrix\n",
    "y_train_pred = cross_val_predict(sgd_clf, X_train, y_train_5, cv=3)\n",
    "Matrix_train=confusion_matrix(y_train_5, y_train_pred)\n",
    "TN_train=Matrix_train[0][0]\n",
    "FP_train=Matrix_train[0][1]\n",
    "FN_train=Matrix_train[1][0]\n",
    "TP_train=Matrix_train[1][1]\n",
    "print(\"TN of train dataset: \",TN_train)\n",
    "print(\"FP of train dataset: \",FP_train)\n",
    "print(\"FN of train dataset: \",FN_train)\n",
    "print(\"TP of train dataset: \",TP_train)\n",
    "print(\"\\n\")\n",
    "y_test_pred = cross_val_predict(sgd_clf, X_test, y_test_5, cv=3)\n",
    "Matrix_test=confusion_matrix(y_test_5, y_test_pred)\n",
    "TN_test=Matrix_test[0][0]\n",
    "FP_test=Matrix_test[0][1]\n",
    "FN_test=Matrix_test[1][0]\n",
    "TP_test=Matrix_test[1][1]\n",
    "print(\"TN of test dataset: \",TN_test)\n",
    "print(\"FP of test dataset: \",FP_test)\n",
    "print(\"FN of test dataset: \",FN_test)\n",
    "print(\"TP of test dataset: \",TP_test)"
   ]
  },
  {
   "cell_type": "code",
   "execution_count": 17,
   "id": "bc17f32b",
   "metadata": {},
   "outputs": [
    {
     "name": "stdout",
     "output_type": "stream",
     "text": [
      "Precision on train dataset:  0.8370879772350012\n",
      "Precision on train dataset:  0.7894736842105263\n"
     ]
    }
   ],
   "source": [
    "# 17. Write a function to compute and print precision of the classier on train\n",
    "# dataset as well as on test dataset separately.\n",
    "P_train=(TP_train/(TP_train+FP_train))\n",
    "P_test=(TP_test/(TP_test+FP_test))\n",
    "print(\"Precision on train dataset: \",P_train)\n",
    "print(\"Precision on train dataset: \",P_test)"
   ]
  },
  {
   "cell_type": "code",
   "execution_count": 18,
   "id": "96c2b7a0",
   "metadata": {},
   "outputs": [
    {
     "name": "stdout",
     "output_type": "stream",
     "text": [
      "Precision on train dataset:  0.6511713705958311\n",
      "Precision on train dataset:  0.7230941704035875\n"
     ]
    }
   ],
   "source": [
    "# 18. Write a function to compute and print recall of the classier on train\n",
    "# dataset as well as on test dataset separately.\n",
    "R_train=(TP_train/(TP_train+FN_train))\n",
    "R_test=(TP_test/(TP_test+FN_test))\n",
    "print(\"Precision on train dataset: \",R_train)\n",
    "print(\"Precision on train dataset: \",R_test)"
   ]
  },
  {
   "cell_type": "code",
   "execution_count": 19,
   "id": "0ab89d68",
   "metadata": {},
   "outputs": [
    {
     "name": "stdout",
     "output_type": "stream",
     "text": [
      "Precision on train dataset:  0.8370879772350012\n",
      "Precision on test dataset:  0.7894736842105263\n",
      "\n",
      "\n",
      "Recall on train dataset:  0.6511713705958311\n",
      "Recall on test dataset:  0.7230941704035875\n"
     ]
    }
   ],
   "source": [
    "# 19. Compute the precision and recall of the train and test datasets using\n",
    "# built-in functions precision_score, recall_score of sklearn’s metrics module.\n",
    "from sklearn.metrics import precision_score,recall_score\n",
    "print(\"Precision on train dataset: \",precision_score(y_train_5, y_train_pred))\n",
    "print(\"Precision on test dataset: \",precision_score(y_test_5, y_test_pred))\n",
    "print(\"\\n\")\n",
    "print(\"Recall on train dataset: \",recall_score(y_train_5, y_train_pred))\n",
    "print(\"Recall on test dataset: \",recall_score(y_test_5, y_test_pred))"
   ]
  },
  {
   "cell_type": "code",
   "execution_count": 20,
   "id": "98c68836",
   "metadata": {},
   "outputs": [
    {
     "name": "stdout",
     "output_type": "stream",
     "text": [
      "Manually F1 score of train dataset:  0.7325171197343846\n",
      "Manually F1 score of test dataset:  0.7548273844353423\n",
      "\n",
      "\n",
      "Using in built function f1 score of train dataset:  0.7325171197343846\n",
      "Using in built function f1 score of test dataset:  0.7548273844353423\n"
     ]
    }
   ],
   "source": [
    "# 20. Compute f1 score manually as well as using built-in functions f1_score.\n",
    "# Manually f1 score\n",
    "F1_train=2*((P_train*R_train)/(P_train+R_train))\n",
    "F1_test=2*((P_test*R_test)/(P_test+R_test))\n",
    "print(\"Manually F1 score of train dataset: \",F1_train)\n",
    "print(\"Manually F1 score of test dataset: \",F1_test)\n",
    "print(\"\\n\")\n",
    "# Using built-in functions f1_score\n",
    "from sklearn.metrics import f1_score\n",
    "print(\"Using in built function f1 score of train dataset: \",f1_score(y_train_5, y_train_pred))\n",
    "print(\"Using in built function f1 score of test dataset: \",f1_score(y_test_5, y_test_pred))"
   ]
  }
 ],
 "metadata": {
  "kernelspec": {
   "display_name": "Python 3 (ipykernel)",
   "language": "python",
   "name": "python3"
  },
  "language_info": {
   "codemirror_mode": {
    "name": "ipython",
    "version": 3
   },
   "file_extension": ".py",
   "mimetype": "text/x-python",
   "name": "python",
   "nbconvert_exporter": "python",
   "pygments_lexer": "ipython3",
   "version": "3.8.10"
  }
 },
 "nbformat": 4,
 "nbformat_minor": 5
}
